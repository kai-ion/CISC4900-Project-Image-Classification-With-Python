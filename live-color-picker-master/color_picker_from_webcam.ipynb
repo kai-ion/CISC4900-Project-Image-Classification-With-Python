{
 "cells": [
  {
   "cell_type": "code",
   "execution_count": 4,
   "metadata": {},
   "outputs": [],
   "source": [
    "import cv2\n",
    "import numpy as np\n",
    "from PIL import Image"
   ]
  },
  {
   "cell_type": "code",
   "execution_count": 5,
   "metadata": {},
   "outputs": [],
   "source": [
    "def PIX(event, x, y, flags, param):\n",
    "    if event == cv2.EVENT_LBUTTONDBLCLK:\n",
    "        r, g, b = rgbimg.getpixel((x,y))\n",
    "        txt = str(r)+\",\"+str(g)+\",\"+str(b)\n",
    "        bg = np.zeros((200, 400, 3), np.uint8)\n",
    "        bg[:,0:400] = (b,g,r)\n",
    "        font = cv2.FONT_ITALIC\n",
    "        cv2.putText(bg, txt, (10,100), font, 1, (255,255,255), 2, cv2.LINE_AA)\n",
    "        cv2.imshow('rgb',bg)\n"
   ]
  },
  {
   "cell_type": "code",
   "execution_count": null,
   "metadata": {},
   "outputs": [],
   "source": [
    "cap = cv2.VideoCapture(0)\n",
    "while(True):\n",
    "    ret, frame = cap.read()\n",
    "    flipped = cv2.flip(frame, 1)\n",
    "    cv2.imshow('vid', flipped)\n",
    "    \n",
    "    if cv2.waitKey(1) & 0xFF == ord('c'): #press 'c' to capture the \n",
    "        cv2.imwrite('1.png',flipped)\n",
    "        imge = Image.open('1.png')\n",
    "        rgbimg = imge.convert('RGB')\n",
    "        cv2.imshow('pic',flipped)\n",
    "        cv2.setMouseCallback('pic', PIX) #function that captures the current pixel and displays on a window\n",
    "        \n",
    "    elif cv2.waitKey(1) & 0xFF == ord(' '): #hit space to quit\n",
    "        break\n",
    "cap.release()\n",
    "cv2.destroyAllWindows()\n"
   ]
  },
  {
   "cell_type": "code",
   "execution_count": null,
   "metadata": {
    "collapsed": true
   },
   "outputs": [],
   "source": []
  }
 ],
 "metadata": {
  "kernelspec": {
   "display_name": "Python 3",
   "language": "python",
   "name": "python3"
  },
  "language_info": {
   "codemirror_mode": {
    "name": "ipython",
    "version": 3
   },
   "file_extension": ".py",
   "mimetype": "text/x-python",
   "name": "python",
   "nbconvert_exporter": "python",
   "pygments_lexer": "ipython3",
   "version": "3.8.5"
  }
 },
 "nbformat": 4,
 "nbformat_minor": 2
}
